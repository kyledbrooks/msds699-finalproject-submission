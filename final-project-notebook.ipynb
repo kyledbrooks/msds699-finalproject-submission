{
 "cells": [
  {
   "cell_type": "markdown",
   "id": "sublime-importance",
   "metadata": {},
   "source": [
    "https://deepnote.com/project/7ae94640-4599-4bbc-bd1a-6db25eca3b31"
   ]
  },
  {
   "cell_type": "code",
   "execution_count": 2,
   "id": "rental-audio",
   "metadata": {},
   "outputs": [],
   "source": [
    "reset -fs"
   ]
  },
  {
   "cell_type": "code",
   "execution_count": 3,
   "id": "nonprofit-organization",
   "metadata": {},
   "outputs": [],
   "source": [
    "import pandas as pd\n",
    "import numpy as np\n",
    "import matplotlib.pyplot as plt\n",
    "\n",
    "import sklearn\n",
    "\n",
    "# Sklearn imports\n",
    "from sklearn.model_selection import train_test_split\n",
    "from sklearn.pipeline import Pipeline\n",
    "from sklearn.preprocessing import StandardScaler, MinMaxScaler\n",
    "from sklearn.experimental import enable_iterative_imputer\n",
    "from sklearn.impute import SimpleImputer, IterativeImputer\n",
    "\n",
    "from sklearn.neighbors       import KNeighborsClassifier\n",
    "\n",
    "\n",
    "\n",
    "from sklearn.feature_selection import SelectFromModel\n",
    "\n",
    "from sklearn.compose import ColumnTransformer\n",
    "from sklearn.linear_model import LogisticRegression\n",
    "from sklearn.model_selection import RandomizedSearchCV\n",
    "from sklearn.base import BaseEstimator\n",
    "\n",
    "from sklearn.ensemble import RandomForestClassifier \n",
    "from sklearn.svm             import SVC\n",
    "\n",
    "from sklearn.decomposition   import PCA\n",
    "\n",
    "import imblearn\n",
    "from   imblearn.pipeline          import make_pipeline # scikit-learn Pipeline does not work with imblearn\n",
    "\n",
    "from sklearn.metrics import balanced_accuracy_score, fbeta_score, f1_score, confusion_matrix, make_scorer\n",
    "from sklearn.metrics import plot_confusion_matrix, classification_report\n",
    "\n",
    "\n",
    "from imblearn.pipeline import Pipeline"
   ]
  },
  {
   "cell_type": "markdown",
   "id": "complimentary-cameroon",
   "metadata": {},
   "source": [
    "# Data Science Research Question\n",
    "-----\n",
    "## Can we develop an ML model to predict whether or not a patient will have a death event based on common heart failure predictors? Additionally, what are the most important predictors of a death event?"
   ]
  },
  {
   "cell_type": "code",
   "execution_count": 4,
   "id": "alike-faculty",
   "metadata": {
    "scrolled": true
   },
   "outputs": [
    {
     "data": {
      "text/html": [
       "<div>\n",
       "<style scoped>\n",
       "    .dataframe tbody tr th:only-of-type {\n",
       "        vertical-align: middle;\n",
       "    }\n",
       "\n",
       "    .dataframe tbody tr th {\n",
       "        vertical-align: top;\n",
       "    }\n",
       "\n",
       "    .dataframe thead th {\n",
       "        text-align: right;\n",
       "    }\n",
       "</style>\n",
       "<table border=\"1\" class=\"dataframe\">\n",
       "  <thead>\n",
       "    <tr style=\"text-align: right;\">\n",
       "      <th></th>\n",
       "      <th>age</th>\n",
       "      <th>anaemia</th>\n",
       "      <th>creatinine_phosphokinase</th>\n",
       "      <th>diabetes</th>\n",
       "      <th>ejection_fraction</th>\n",
       "      <th>high_blood_pressure</th>\n",
       "      <th>platelets</th>\n",
       "      <th>serum_creatinine</th>\n",
       "      <th>serum_sodium</th>\n",
       "      <th>sex</th>\n",
       "      <th>smoking</th>\n",
       "      <th>time</th>\n",
       "      <th>DEATH_EVENT</th>\n",
       "    </tr>\n",
       "  </thead>\n",
       "  <tbody>\n",
       "    <tr>\n",
       "      <th>0</th>\n",
       "      <td>75.0</td>\n",
       "      <td>0</td>\n",
       "      <td>582</td>\n",
       "      <td>0</td>\n",
       "      <td>20</td>\n",
       "      <td>1</td>\n",
       "      <td>265000.00</td>\n",
       "      <td>1.9</td>\n",
       "      <td>130</td>\n",
       "      <td>1</td>\n",
       "      <td>0</td>\n",
       "      <td>4</td>\n",
       "      <td>1</td>\n",
       "    </tr>\n",
       "    <tr>\n",
       "      <th>1</th>\n",
       "      <td>55.0</td>\n",
       "      <td>0</td>\n",
       "      <td>7861</td>\n",
       "      <td>0</td>\n",
       "      <td>38</td>\n",
       "      <td>0</td>\n",
       "      <td>263358.03</td>\n",
       "      <td>1.1</td>\n",
       "      <td>136</td>\n",
       "      <td>1</td>\n",
       "      <td>0</td>\n",
       "      <td>6</td>\n",
       "      <td>1</td>\n",
       "    </tr>\n",
       "    <tr>\n",
       "      <th>2</th>\n",
       "      <td>65.0</td>\n",
       "      <td>0</td>\n",
       "      <td>146</td>\n",
       "      <td>0</td>\n",
       "      <td>20</td>\n",
       "      <td>0</td>\n",
       "      <td>162000.00</td>\n",
       "      <td>1.3</td>\n",
       "      <td>129</td>\n",
       "      <td>1</td>\n",
       "      <td>1</td>\n",
       "      <td>7</td>\n",
       "      <td>1</td>\n",
       "    </tr>\n",
       "    <tr>\n",
       "      <th>3</th>\n",
       "      <td>50.0</td>\n",
       "      <td>1</td>\n",
       "      <td>111</td>\n",
       "      <td>0</td>\n",
       "      <td>20</td>\n",
       "      <td>0</td>\n",
       "      <td>210000.00</td>\n",
       "      <td>1.9</td>\n",
       "      <td>137</td>\n",
       "      <td>1</td>\n",
       "      <td>0</td>\n",
       "      <td>7</td>\n",
       "      <td>1</td>\n",
       "    </tr>\n",
       "    <tr>\n",
       "      <th>4</th>\n",
       "      <td>65.0</td>\n",
       "      <td>1</td>\n",
       "      <td>160</td>\n",
       "      <td>1</td>\n",
       "      <td>20</td>\n",
       "      <td>0</td>\n",
       "      <td>327000.00</td>\n",
       "      <td>2.7</td>\n",
       "      <td>116</td>\n",
       "      <td>0</td>\n",
       "      <td>0</td>\n",
       "      <td>8</td>\n",
       "      <td>1</td>\n",
       "    </tr>\n",
       "  </tbody>\n",
       "</table>\n",
       "</div>"
      ],
      "text/plain": [
       "    age  anaemia  creatinine_phosphokinase  diabetes  ejection_fraction  \\\n",
       "0  75.0        0                       582         0                 20   \n",
       "1  55.0        0                      7861         0                 38   \n",
       "2  65.0        0                       146         0                 20   \n",
       "3  50.0        1                       111         0                 20   \n",
       "4  65.0        1                       160         1                 20   \n",
       "\n",
       "   high_blood_pressure  platelets  serum_creatinine  serum_sodium  sex  \\\n",
       "0                    1  265000.00               1.9           130    1   \n",
       "1                    0  263358.03               1.1           136    1   \n",
       "2                    0  162000.00               1.3           129    1   \n",
       "3                    0  210000.00               1.9           137    1   \n",
       "4                    0  327000.00               2.7           116    0   \n",
       "\n",
       "   smoking  time  DEATH_EVENT  \n",
       "0        0     4            1  \n",
       "1        0     6            1  \n",
       "2        1     7            1  \n",
       "3        0     7            1  \n",
       "4        0     8            1  "
      ]
     },
     "execution_count": 4,
     "metadata": {},
     "output_type": "execute_result"
    }
   ],
   "source": [
    "data = pd.read_csv('data/heart_failure_clinical_records_dataset.csv')\n",
    "data.head()"
   ]
  },
  {
   "cell_type": "markdown",
   "id": "imperial-crest",
   "metadata": {},
   "source": [
    "First after very basic EDA, I summarize the features in this dataset, and how they relate to heart failure:\n",
    "- **Age** - age of patient in years\n",
    "- **Anaemia** - whether or not a patient has a decrease of red blood cells (boolean)\n",
    "- **Creatinine Phosphokinase** - level of CPK enzyme in blood in (high values may indicate muscle damage - heart is a muscle)\n",
    "- **Diabetes** - whether or not a patient has diabetes (boolean)\n",
    "- **Ejection Fraction** - percentage of blood being pumped out of left ventricle (lower values may indicate issues)\n",
    "- **High Blood Pressure** - whether or not a patient has hypertension (boolean)\n",
    "- **Platelets** - concentration of platelets in blood in kiloplatelets/mL\n",
    "- **Serum Creatinine** - concentration of creatinine in blood in mg/dL (increased levels are a marker of poor cardiac output).\n",
    "- **Serum Sodium** - level of sodium in blood in mEq/L (low concentration is a biological marker for heart failure)\n",
    "- **Sex** - whether the patient is male or female (binary: 1=Male, 0=Female)\n",
    "- **Smoking** - if the patient smokes (boolean)\n",
    "- **Time** - the follow up period for the patient up to the death event (whether they died or were censored).\n",
    "- **Death Event** - (target), whether or not the patient died during the follow up (boolean)\n",
    "    - 1 - patient died\n",
    "    - 0 - patient was censored (scientist lost contact with patient) "
   ]
  },
  {
   "cell_type": "markdown",
   "id": "metallic-fault",
   "metadata": {},
   "source": [
    "Since the time variable is populated when the scientists either lost contact with the patient, or the patient died, it is indicative of survival, and obviously not known beforehand. In other words, if we were to deploy a working model with all the columns and someone wanted to predict whether a certain patient was likely to have a death event, they would have no \"time\" variable to put as an input (since that is recorded when the patient dies). Therefore, I made the decision initially to drop time as a predictor."
   ]
  },
  {
   "cell_type": "code",
   "execution_count": 5,
   "id": "mounted-spoke",
   "metadata": {},
   "outputs": [],
   "source": [
    "y = data.DEATH_EVENT # Our target variable is DEATH_EVENT \n",
    "X = data.drop(columns=['DEATH_EVENT', 'time'])  # Remove the target variable and time from X"
   ]
  },
  {
   "cell_type": "code",
   "execution_count": 6,
   "id": "congressional-engine",
   "metadata": {
    "scrolled": true
   },
   "outputs": [
    {
     "data": {
      "text/plain": [
       "299"
      ]
     },
     "execution_count": 6,
     "metadata": {},
     "output_type": "execute_result"
    }
   ],
   "source": [
    "# How many observations do we have?\n",
    "len(X)"
   ]
  },
  {
   "cell_type": "markdown",
   "id": "retained-darkness",
   "metadata": {},
   "source": [
    "After importing the data, the next step is to pull off a segment of the data that will be our testing set. This test set will be be hidden away from the models we are designing until we are ready to test a final one. Additionally, since there are only have 299 observations, I am going to split the data by a slightly higher percentage (25% as opposed to 20%) to ensure that the testing set is representative of the data."
   ]
  },
  {
   "cell_type": "code",
   "execution_count": 7,
   "id": "critical-rachel",
   "metadata": {},
   "outputs": [],
   "source": [
    "# Testing split that we are going to hide away from our model\n",
    "X_train, X_test, y_train, y_test = train_test_split(X, y, test_size=0.25) "
   ]
  },
  {
   "cell_type": "markdown",
   "id": "based-juvenile",
   "metadata": {},
   "source": [
    "# Feature Engineering\n",
    "-----"
   ]
  },
  {
   "cell_type": "markdown",
   "id": "academic-glucose",
   "metadata": {},
   "source": [
    "After performing more extensive EDA (in a different notebook), I noticed that all of the columns were numeric types, but some represented categorical variables (i.e. whether or not someone smokes, has high blood pressure, etc.). In the dataset, these columns are already one-hot-encoded with binary 1's or 0's to indicate whether someone exhibits that characteristic. Therefore, in my feature engineering one-hot-encoding is not needed. Additionally, there are no Nan values in the training data, however I still impute for missing values, as they might be included in the testing set or data we want to use the model on.\n",
    "\n",
    "For my feature engineering, the steps I took were:\n",
    "1. Identify categorical and numerical columns and establish pipelines for each\n",
    "\n",
    "\n",
    "2. Scale the data\n",
    "    - For my numeric data I chose to use `StandardScaler()` in the pipeline, which normalizes columns to a normal distribution. This is important as many algorithms may perform poorly if individual features are not standardized. Additionally, standardization improves efficiency of many of these algorithms.\n",
    "    - It doesn't make sense to use a scaler on my categorical columns since they're simply one-hot-encoded as 1s or 0s.\n",
    "\n",
    "\n",
    "3. Impute missing values with `SimpleImputer()`\n",
    "    - For numerical columns I used the strategy *median* whereas for categorical I used *most_frequent*. These methods fill any missing values with the corresponding strategy applied to the column."
   ]
  },
  {
   "cell_type": "code",
   "execution_count": 8,
   "id": "catholic-friendly",
   "metadata": {
    "scrolled": true
   },
   "outputs": [
    {
     "name": "stdout",
     "output_type": "stream",
     "text": [
      "<class 'pandas.core.frame.DataFrame'>\n",
      "RangeIndex: 299 entries, 0 to 298\n",
      "Data columns (total 11 columns):\n",
      " #   Column                    Non-Null Count  Dtype  \n",
      "---  ------                    --------------  -----  \n",
      " 0   age                       299 non-null    float64\n",
      " 1   anaemia                   299 non-null    int64  \n",
      " 2   creatinine_phosphokinase  299 non-null    int64  \n",
      " 3   diabetes                  299 non-null    int64  \n",
      " 4   ejection_fraction         299 non-null    int64  \n",
      " 5   high_blood_pressure       299 non-null    int64  \n",
      " 6   platelets                 299 non-null    float64\n",
      " 7   serum_creatinine          299 non-null    float64\n",
      " 8   serum_sodium              299 non-null    int64  \n",
      " 9   sex                       299 non-null    int64  \n",
      " 10  smoking                   299 non-null    int64  \n",
      "dtypes: float64(3), int64(8)\n",
      "memory usage: 25.8 KB\n"
     ]
    }
   ],
   "source": [
    "X.info()  # Datatypes in all columns are either integer or float "
   ]
  },
  {
   "cell_type": "code",
   "execution_count": 9,
   "id": "coated-occurrence",
   "metadata": {},
   "outputs": [],
   "source": [
    "cat_cols = ['anaemia', 'diabetes', 'high_blood_pressure', 'sex', 'smoking']  # These are all binary\n",
    "con_cols = ['creatinine_phosphokinase', 'ejection_fraction', 'platelets', 'serum_creatinine', 'serum_sodium', 'age']"
   ]
  },
  {
   "cell_type": "code",
   "execution_count": 10,
   "id": "individual-yorkshire",
   "metadata": {},
   "outputs": [],
   "source": [
    "con_pipe = Pipeline([('scaler', StandardScaler()),  # Standard scaler for numerical variables\n",
    "                     ('imputer', SimpleImputer(strategy='median', add_indicator=True))])\n",
    "\n",
    "\n",
    "cat_pipe = Pipeline([('imputer', SimpleImputer(strategy='most_frequent'))])  # Shouldn't standardize binary variables\n",
    "\n",
    "\n",
    "\n",
    "# Apply numerical and categorical pipeline to pre-processing step\n",
    "preprocessing = ColumnTransformer([('categorical', cat_pipe, cat_cols), \n",
    "                                   ('continuous', con_pipe, con_cols)])"
   ]
  },
  {
   "cell_type": "markdown",
   "id": "armed-guest",
   "metadata": {},
   "source": [
    "Additionally, when looking at the target variable Death_event, I saw evidence of slight imbalanced data as the percentage of death events in the target variable was around 32%. Therefore, I will make sure to use metrics that weigh the classes so as to deal with this imbalance."
   ]
  },
  {
   "cell_type": "code",
   "execution_count": 11,
   "id": "tamil-armor",
   "metadata": {},
   "outputs": [
    {
     "data": {
      "text/plain": [
       "(array([0, 1]), array([203,  96]))"
      ]
     },
     "execution_count": 11,
     "metadata": {},
     "output_type": "execute_result"
    }
   ],
   "source": [
    "np.unique(y, return_counts=True)"
   ]
  },
  {
   "cell_type": "markdown",
   "id": "scenic-terror",
   "metadata": {},
   "source": [
    "# Algorithms & Search\n",
    "-----"
   ]
  },
  {
   "cell_type": "markdown",
   "id": "everyday-lodging",
   "metadata": {},
   "source": [
    "To analyze which algorithm has the best performance I utilize automated algorithm and hyperparameter search. For the search, it is important that I gear my metric towards the particular business problem. \n",
    "\n",
    "In the case of predicting whether or not a patient is going to have a death event, I want to put an emphasis on recall, as we want to reduce the amount of false negatives (instances when our model doesn't predict death event and the patient dies). We are less concerned about recall (of patients *predicted* to die, how many did we get right?) When dealing with human lives it is better to be \"safe than sorry\", so we aren't concerned with our \"success rate\" when it comes to predicting death events. Its better if our model is conservative and tries to predict as many death events as it can (even if that means a few false positives). Therefore, I chose to use the `fbeta_score` metric, as it allows us to tweak the emphasis between precision and recall. Additionally, due to the slight imbalance between classes, I choose a *weighted* fbeta_score to help alleviate this issue.\n",
    "\n",
    "When picking algorithms, I focused on three that are geared towards binary classification. I also provide details on the important parameters that will be tuned for each model via `RandomizedSearchCV()`. \n",
    "\n",
    "The three algorithms I chose to compare were:\n",
    "\n",
    "1. `LogisticRegression()` - I chose this model because it is a linear model for *classification*, which is the scope of my research question in this case.\n",
    "    - Important parameters:\n",
    "     - `penalty` - Specifies the normalization used in the penalty term\n",
    "     \n",
    "     - `C` - Inverse of regularization strength was varied (smaller values result in stronger regularization)\n",
    "     \n",
    "     - `solver` - Algorithm that is used in the optimization problem \n",
    "     \n",
    "     - `class_weight` - The weights associated with specific classes (if we have evidence of imbalanced data, setting to `balanced` may be helpful\n",
    "     \n",
    "     \n",
    "     \n",
    "2. `RandomForestClassifier()` - I chose this model because fitting a number of decision tree classifiers on various sub-samples of the data will improve accuracy in predictions and reduce overfitting \n",
    "    - Important parameters:\n",
    "        - `n_estimators` - number of trees in the forest, important because adding more trees trained on different subsets of the data reduces variance\n",
    "        - `criterion` - function used to determined the effectiveness of a split\n",
    "        - `bootstrap` - whether or not to use bootstrap samples\n",
    "            - **bootstrapping** is introducing amnesia by training trees on only a portion of the data, weakens the trees to improve *generality*\n",
    "        - `min_samples_leaf` - the minimum amount of samples required to be in a leaf node, decreasing this can decrease the validation error\n",
    "        - `class_weight` - weights assigned to classes (if None, classes are assumed to have a weight of 1)\n",
    "            - **balanced** - uses values of y to adjust weights inversely to class frequencies\n",
    "            - **balanced_subsample** - same as above, but weights are computed based on the bootstrap sample for every tree\n",
    "\n",
    "\n",
    "\n",
    "3. `KNeighborsClassifier()` - I chose this model because it was one we learned about in 621, and I thought it would be interesting to see this models performance. We learned in 621 that KNeighbors is less often used in practice, but can still be effective nonetheless, and I was interested to see if it could outperform the other algorithms selected.\n",
    "    - Important parameters:\n",
    "        - `leaf_size` - Can affect speed and the optimal value will depend on the nature of the dataset (therefore I am going to test a decent range)\n",
    "        - `n_neighbors` - Number of neighbors to use, can be unstable for the lowest values of n (i.e. 1) so start at \n",
    "        - `weights` - function to use for prediction\n",
    "            - **uniform** - all points in neighborhood weighted equally\n",
    "            - **distance** - weight points by inverse of distance (closer neighbors have greater influence)\n",
    "        - `p` - power parameter for Minkowski (1=manhattan_distance, 2=euclidean_distance)"
   ]
  },
  {
   "cell_type": "code",
   "execution_count": 12,
   "id": "impressed-grass",
   "metadata": {},
   "outputs": [],
   "source": [
    "ftwo_scorer = make_scorer(fbeta_score, beta=2, average='weighted')  # Score to use in RandomizedSearchCV()"
   ]
  },
  {
   "cell_type": "code",
   "execution_count": 13,
   "id": "beginning-holiday",
   "metadata": {},
   "outputs": [],
   "source": [
    "class DummyEstimator(BaseEstimator):\n",
    "    \"Pass through class, methods are present but do nothing.\"\n",
    "    def fit(self): pass\n",
    "    def score(self): pass"
   ]
  },
  {
   "cell_type": "markdown",
   "id": "threaded-relation",
   "metadata": {},
   "source": [
    "For the comments on importance of hyperparameters see markdown cell under Algorithms and Search"
   ]
  },
  {
   "cell_type": "code",
   "execution_count": 14,
   "id": "diverse-desktop",
   "metadata": {
    "scrolled": true
   },
   "outputs": [
    {
     "data": {
      "text/plain": [
       "(0.7804438448530766,\n",
       " {'clf__n_estimators': 127,\n",
       "  'clf__min_samples_leaf': 4,\n",
       "  'clf__criterion': 'entropy',\n",
       "  'clf__class_weight': 'balanced',\n",
       "  'clf__bootstrap': False,\n",
       "  'clf': RandomForestClassifier(bootstrap=False, class_weight='balanced',\n",
       "                         criterion='entropy', min_samples_leaf=4,\n",
       "                         n_estimators=127, n_jobs=-1)})"
      ]
     },
     "execution_count": 14,
     "metadata": {},
     "output_type": "execute_result"
    }
   ],
   "source": [
    "pipe = Pipeline(steps = [('preprocessing', preprocessing),\n",
    "                         ('clf', DummyEstimator())])\n",
    "\n",
    "\n",
    "search_space = [\n",
    "        {'clf': [LogisticRegression(n_jobs=-1)],\n",
    "            'clf__C': np.linspace(0.01, 5, 10),\n",
    "            'clf__solver': ['newton-cg', 'lbfgs', 'liblinear', 'sag', 'saga'],\n",
    "            'clf__class_weight': ['balanced', None],\n",
    "            'clf__penalty': ['l1', 'l2', 'elasticnet', 'none']},\n",
    "                  \n",
    "                  \n",
    "        {'clf': [RandomForestClassifier(n_jobs=-1)],\n",
    "            'clf__criterion': ['gini', 'entropy'],\n",
    "            'clf__min_samples_leaf': np.linspace(1, 10, 6, dtype=int),\n",
    "            'clf__bootstrap': [True, False],\n",
    "            'clf__class_weight': [None, 'balanced', 'balanced_subsample'],\n",
    "            'clf__n_estimators': np.linspace(0, 200, 100, dtype=int)},\n",
    "    \n",
    "        {'clf': [KNeighborsClassifier(n_jobs=-1)],\n",
    "            'clf__leaf_size': np.linspace(0, 50, 10, dtype=int),\n",
    "            'clf__n_neighbors': np.linspace(2, 13, 6, dtype=int),\n",
    "            'clf__weights': ['uniform', 'distance'],\n",
    "            'clf__p': [1,2]}]\n",
    "\n",
    "    \n",
    "\n",
    "gs = RandomizedSearchCV(pipe, \n",
    "                    search_space, \n",
    "                    scoring= ftwo_scorer,  # Used to combat slight class imbalance, and gear towards recall\n",
    "                    n_iter=30,\n",
    "                    cv=5,\n",
    "                    n_jobs=-1\n",
    "                    )\n",
    "\n",
    "gs.fit(X_train, y_train)\n",
    "\n",
    "best_model = gs.best_params_['clf']\n",
    "\n",
    "gs.best_score_, gs.best_params_"
   ]
  },
  {
   "cell_type": "markdown",
   "id": "fallen-apollo",
   "metadata": {},
   "source": [
    "As one can see the best model based on the cross validation and randomized search across algorithms and their hyperparameters is a RandomForestClassifier. To see the ideal parameters of the other models, one could comment out the other algorithms in the search_space."
   ]
  },
  {
   "cell_type": "markdown",
   "id": "imported-crossing",
   "metadata": {},
   "source": [
    "# Evaluation Metrics\n",
    "----"
   ]
  },
  {
   "cell_type": "markdown",
   "id": "unusual-diagnosis",
   "metadata": {},
   "source": [
    "Now that I have my ideal model based on automated hyperparameter search and model selection, next I look at a variety of evaluation metrics on the testing data to assess our models performance on the testing set. The first metric I looked at was the weighted fbeta_score, since that is the metric I used to train my model."
   ]
  },
  {
   "cell_type": "code",
   "execution_count": 15,
   "id": "contemporary-allah",
   "metadata": {},
   "outputs": [],
   "source": [
    "pipe = Pipeline(steps = [('preprocessing', preprocessing), \n",
    "                         ('clf', best_model)])\n",
    "\n",
    "fitted_model = pipe.fit(X_train, y_train)\n",
    "y_pred = pipe.predict(X_test)"
   ]
  },
  {
   "cell_type": "code",
   "execution_count": 16,
   "id": "knowing-person",
   "metadata": {
    "scrolled": true
   },
   "outputs": [
    {
     "data": {
      "text/plain": [
       "0.7340690859209377"
      ]
     },
     "execution_count": 16,
     "metadata": {},
     "output_type": "execute_result"
    }
   ],
   "source": [
    "fbeta_score(y_test, y_pred, beta=2, average='weighted') "
   ]
  },
  {
   "cell_type": "markdown",
   "id": "banned-pollution",
   "metadata": {},
   "source": [
    "Another metric I chose to look at was balanced_accuracy_score, which gives the average of recall obtained in each class."
   ]
  },
  {
   "cell_type": "code",
   "execution_count": 17,
   "id": "entitled-curtis",
   "metadata": {},
   "outputs": [
    {
     "data": {
      "text/plain": [
       "0.7146781789638932"
      ]
     },
     "execution_count": 17,
     "metadata": {},
     "output_type": "execute_result"
    }
   ],
   "source": [
    "balanced_accuracy_score(y_test, y_pred)"
   ]
  },
  {
   "cell_type": "markdown",
   "id": "interior-sauce",
   "metadata": {},
   "source": [
    "Next I look at the confusion matrix, to give us an idea of precision and recall for each class in our problem."
   ]
  },
  {
   "cell_type": "code",
   "execution_count": 18,
   "id": "opponent-transportation",
   "metadata": {},
   "outputs": [
    {
     "data": {
      "text/plain": [
       "array([[38, 11],\n",
       "       [ 9, 17]])"
      ]
     },
     "execution_count": 18,
     "metadata": {},
     "output_type": "execute_result"
    },
    {
     "data": {
      "image/png": "[encoded data removed]",
      "text/plain": [
       "<Figure size 432x288 with 2 Axes>"
      ]
     },
     "metadata": {
      "needs_background": "light"
     },
     "output_type": "display_data"
    }
   ],
   "source": [
    "disp = plot_confusion_matrix(fitted_model, X_test, y_test, cmap=plt.cm.Blues)\n",
    "disp.ax_.set_title('Confusion Matrix')\n",
    "disp.confusion_matrix"
   ]
  },
  {
   "cell_type": "code",
   "execution_count": 19,
   "id": "inner-lawrence",
   "metadata": {
    "scrolled": true
   },
   "outputs": [
    {
     "name": "stdout",
     "output_type": "stream",
     "text": [
      "              precision    recall  f1-score   support\n",
      "\n",
      "           0       0.81      0.78      0.79        49\n",
      "           1       0.61      0.65      0.63        26\n",
      "\n",
      "    accuracy                           0.73        75\n",
      "   macro avg       0.71      0.71      0.71        75\n",
      "weighted avg       0.74      0.73      0.74        75\n",
      "\n"
     ]
    }
   ],
   "source": [
    "from sklearn.metrics import classification_report\n",
    "\n",
    "print(classification_report(y_test, y_pred))"
   ]
  },
  {
   "cell_type": "markdown",
   "id": "supported-privilege",
   "metadata": {},
   "source": [
    "Above is a summary of the precision and recall in the chosen model. As one can see, our model still struggles with recall for predicting death events (class 1). It seems like the model performs well at predicting whether a patient lives (class 0), but struggles with death event. For further work I would like to further investigate how to improve our models performance when it comes to class 1."
   ]
  },
  {
   "cell_type": "markdown",
   "id": "interested-journal",
   "metadata": {},
   "source": [
    "# Feature Importance\n",
    "----\n",
    "To answer my question of which features are the best predictors of a death event I look at feature importance and select the 3 most influential features based on my ideal model."
   ]
  },
  {
   "cell_type": "code",
   "execution_count": 20,
   "id": "wooden-emperor",
   "metadata": {},
   "outputs": [],
   "source": [
    "fs = SelectFromModel(best_model, max_features=3)\n",
    "\n",
    "\n",
    "fs.fit_transform(X_train, y_train)\n",
    "\n",
    "features_to_keep = fs.get_support()"
   ]
  },
  {
   "cell_type": "code",
   "execution_count": 21,
   "id": "radio-beads",
   "metadata": {
    "scrolled": true
   },
   "outputs": [
    {
     "data": {
      "text/plain": [
       "['age', 'ejection_fraction', 'serum_creatinine']"
      ]
     },
     "execution_count": 21,
     "metadata": {},
     "output_type": "execute_result"
    }
   ],
   "source": [
    "[x for x, y in zip(list(X.columns), list(features_to_keep)) if y == True]  # These are the most important features"
   ]
  },
  {
   "cell_type": "markdown",
   "id": "prostate-liability",
   "metadata": {},
   "source": [
    "As one can see from above, the most important features for predicting a death event are age, ejection_fraction, and serum_creatine."
   ]
  },
  {
   "cell_type": "markdown",
   "id": "criminal-tucson",
   "metadata": {},
   "source": [
    "# Results and Conclusion\n",
    "---"
   ]
  },
  {
   "cell_type": "markdown",
   "id": "naked-samba",
   "metadata": {},
   "source": [
    "Below are the pipeline steps for my randomized search and model selection (DummyEstimator() is a placeholder for the three models analyzed in my randomized search):\n",
    "- scaler for numerical columns\n",
    "- imputation of missing values (median for continuous and mode for categorical)"
   ]
  },
  {
   "cell_type": "code",
   "execution_count": 22,
   "id": "municipal-tribute",
   "metadata": {
    "scrolled": true
   },
   "outputs": [
    {
     "data": {
      "text/plain": [
       "Pipeline(steps=[('preprocessing',\n",
       "                 ColumnTransformer(transformers=[('categorical',\n",
       "                                                  Pipeline(steps=[('imputer',\n",
       "                                                                   SimpleImputer(strategy='most_frequent'))]),\n",
       "                                                  ['anaemia', 'diabetes',\n",
       "                                                   'high_blood_pressure', 'sex',\n",
       "                                                   'smoking']),\n",
       "                                                 ('continuous',\n",
       "                                                  Pipeline(steps=[('scaler',\n",
       "                                                                   StandardScaler()),\n",
       "                                                                  ('imputer',\n",
       "                                                                   SimpleImputer(add_indicator=True,\n",
       "                                                                                 strategy='median'))]),\n",
       "                                                  ['creatinine_phosphokinase',\n",
       "                                                   'ejection_fraction',\n",
       "                                                   'platelets',\n",
       "                                                   'serum_creatinine',\n",
       "                                                   'serum_sodium', 'age'])])),\n",
       "                ('clf', DummyEstimator())])"
      ]
     },
     "execution_count": 22,
     "metadata": {},
     "output_type": "execute_result"
    }
   ],
   "source": [
    "gs.estimator  # RandomizedSearchCV pipeline"
   ]
  },
  {
   "cell_type": "markdown",
   "id": "inside-killer",
   "metadata": {},
   "source": [
    "Based on my algorithm and hyperparameter search the single best model and its non-default hyperparameters are shown below:"
   ]
  },
  {
   "cell_type": "code",
   "execution_count": 23,
   "id": "brown-being",
   "metadata": {},
   "outputs": [
    {
     "data": {
      "text/plain": [
       "RandomForestClassifier(bootstrap=False, class_weight='balanced',\n",
       "                       criterion='entropy', min_samples_leaf=4,\n",
       "                       n_estimators=127, n_jobs=-1)"
      ]
     },
     "execution_count": 23,
     "metadata": {},
     "output_type": "execute_result"
    }
   ],
   "source": [
    "best_model"
   ]
  },
  {
   "cell_type": "markdown",
   "id": "elect-desktop",
   "metadata": {},
   "source": [
    "Overall, I was somewhat successful at building a model to predict heart failure. My model is fairly accurate, however when I looked into the specific precision/recall for predicting a death event, I saw that my model struggled. Perhaps this has something to do with the class imbalance, but for future work I would like to research ways to improve this particular aspect of the models performance. \n",
    "\n",
    "Given that this model's goal is to help save lives by warning at risk patients, it would be ideal if our model had better performance. Perhaps a simpler model (reducing the number of features) would have more predictive power. For future work I might make a model including the top three most important features, and seeing how that performs."
   ]
  }
 ],
 "metadata": {
  "kernelspec": {
   "display_name": "Python 3",
   "language": "python",
   "name": "python3"
  },
  "language_info": {
   "codemirror_mode": {
    "name": "ipython",
    "version": 3
   },
   "file_extension": ".py",
   "mimetype": "text/x-python",
   "name": "python",
   "nbconvert_exporter": "python",
   "pygments_lexer": "ipython3",
   "version": "3.8.5"
  }
 },
 "nbformat": 4,
 "nbformat_minor": 5
}
